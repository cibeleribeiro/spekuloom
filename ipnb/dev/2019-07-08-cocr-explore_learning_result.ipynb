{
 "cells": [
  {
   "cell_type": "code",
   "execution_count": 2,
   "metadata": {},
   "outputs": [
    {
     "data": {
      "image/png": "[encoded data removed]",
      "text/plain": [
       "<matplotlib.figure.Figure at 0x7f7408097cc0>"
      ]
     },
     "metadata": {},
     "output_type": "display_data"
    }
   ],
   "source": [
    "SPEKULOOM_PATH = \"../../src/\"\n",
    "import pandas as pd\n",
    "df = pd.read_csv(SPEKULOOM_PATH+\"spekuloom/predict24.tab\", delimiter='\\t', header=[0], skiprows=[1,2])\n",
    "df1 = df[df.columns[0:4]] #\n",
    "dfs = df1.sort_values(by=['bsc', 'itm', 'trs'])\n",
    "ax = dfs.plot.bar(stacked=True, figsize=(16,8))\n",
    "_ = ax.set_xticklabels(dfs[dfs.columns[0]], rotation=90)\n"
   ]
  },
  {
   "cell_type": "code",
   "execution_count": 5,
   "metadata": {},
   "outputs": [
    {
     "data": {
      "text/html": [
       "<div>\n",
       "<style scoped>\n",
       "    .dataframe tbody tr th:only-of-type {\n",
       "        vertical-align: middle;\n",
       "    }\n",
       "\n",
       "    .dataframe tbody tr th {\n",
       "        vertical-align: top;\n",
       "    }\n",
       "\n",
       "    .dataframe thead th {\n",
       "        text-align: right;\n",
       "    }\n",
       "</style>\n",
       "<table border=\"1\" class=\"dataframe\">\n",
       "  <thead>\n",
       "    <tr style=\"text-align: right;\">\n",
       "      <th></th>\n",
       "      <th>n</th>\n",
       "      <th>bsc</th>\n",
       "      <th>itm</th>\n",
       "      <th>trs</th>\n",
       "      <th>g</th>\n",
       "      <th>nbs</th>\n",
       "      <th>cpx</th>\n",
       "    </tr>\n",
       "  </thead>\n",
       "  <tbody>\n",
       "    <tr>\n",
       "      <th>6</th>\n",
       "      <td>guilher_do__</td>\n",
       "      <td>0.899158</td>\n",
       "      <td>0.048169</td>\n",
       "      <td>0.052673</td>\n",
       "      <td>0</td>\n",
       "      <td>0.0</td>\n",
       "      <td>4.460545</td>\n",
       "    </tr>\n",
       "    <tr>\n",
       "      <th>22</th>\n",
       "      <td>pedro_ro____</td>\n",
       "      <td>0.797707</td>\n",
       "      <td>0.085469</td>\n",
       "      <td>0.116825</td>\n",
       "      <td>0</td>\n",
       "      <td>0.0</td>\n",
       "      <td>4.957355</td>\n",
       "    </tr>\n",
       "    <tr>\n",
       "      <th>8</th>\n",
       "      <td>davi_d_c____</td>\n",
       "      <td>0.797707</td>\n",
       "      <td>0.085469</td>\n",
       "      <td>0.116825</td>\n",
       "      <td>0</td>\n",
       "      <td>0.0</td>\n",
       "      <td>4.957355</td>\n",
       "    </tr>\n",
       "    <tr>\n",
       "      <th>31</th>\n",
       "      <td>julia_s_p___</td>\n",
       "      <td>0.753682</td>\n",
       "      <td>0.080752</td>\n",
       "      <td>0.165566</td>\n",
       "      <td>1</td>\n",
       "      <td>0.0</td>\n",
       "      <td>5.235652</td>\n",
       "    </tr>\n",
       "    <tr>\n",
       "      <th>29</th>\n",
       "      <td>gabriel_s_k_</td>\n",
       "      <td>0.619452</td>\n",
       "      <td>0.199110</td>\n",
       "      <td>0.181439</td>\n",
       "      <td>0</td>\n",
       "      <td>0.0</td>\n",
       "      <td>5.685960</td>\n",
       "    </tr>\n",
       "    <tr>\n",
       "      <th>14</th>\n",
       "      <td>yuri_a_d____</td>\n",
       "      <td>0.536903</td>\n",
       "      <td>0.345152</td>\n",
       "      <td>0.117945</td>\n",
       "      <td>0</td>\n",
       "      <td>0.0</td>\n",
       "      <td>5.743125</td>\n",
       "    </tr>\n",
       "    <tr>\n",
       "      <th>20</th>\n",
       "      <td>pedro_______</td>\n",
       "      <td>0.536903</td>\n",
       "      <td>0.345152</td>\n",
       "      <td>0.117945</td>\n",
       "      <td>0</td>\n",
       "      <td>0.0</td>\n",
       "      <td>5.743125</td>\n",
       "    </tr>\n",
       "    <tr>\n",
       "      <th>32</th>\n",
       "      <td>davi________</td>\n",
       "      <td>0.511501</td>\n",
       "      <td>0.383626</td>\n",
       "      <td>0.104874</td>\n",
       "      <td>0</td>\n",
       "      <td>0.0</td>\n",
       "      <td>5.780119</td>\n",
       "    </tr>\n",
       "    <tr>\n",
       "      <th>16</th>\n",
       "      <td>catarin_ma__</td>\n",
       "      <td>0.626090</td>\n",
       "      <td>0.080497</td>\n",
       "      <td>0.293413</td>\n",
       "      <td>1</td>\n",
       "      <td>0.0</td>\n",
       "      <td>6.001968</td>\n",
       "    </tr>\n",
       "    <tr>\n",
       "      <th>2</th>\n",
       "      <td>linda_s_k___</td>\n",
       "      <td>0.626090</td>\n",
       "      <td>0.080497</td>\n",
       "      <td>0.293413</td>\n",
       "      <td>1</td>\n",
       "      <td>0.0</td>\n",
       "      <td>6.001968</td>\n",
       "    </tr>\n",
       "    <tr>\n",
       "      <th>23</th>\n",
       "      <td>miguel_m_f__</td>\n",
       "      <td>0.626090</td>\n",
       "      <td>0.080497</td>\n",
       "      <td>0.293413</td>\n",
       "      <td>0</td>\n",
       "      <td>0.0</td>\n",
       "      <td>6.001968</td>\n",
       "    </tr>\n",
       "    <tr>\n",
       "      <th>24</th>\n",
       "      <td>arthur_h_m__</td>\n",
       "      <td>0.626090</td>\n",
       "      <td>0.080497</td>\n",
       "      <td>0.293413</td>\n",
       "      <td>0</td>\n",
       "      <td>0.0</td>\n",
       "      <td>6.001968</td>\n",
       "    </tr>\n",
       "    <tr>\n",
       "      <th>9</th>\n",
       "      <td>maria_c_v___</td>\n",
       "      <td>0.545990</td>\n",
       "      <td>0.070199</td>\n",
       "      <td>0.383811</td>\n",
       "      <td>1</td>\n",
       "      <td>0.0</td>\n",
       "      <td>6.513465</td>\n",
       "    </tr>\n",
       "    <tr>\n",
       "      <th>1</th>\n",
       "      <td>julia_d_e___</td>\n",
       "      <td>0.407902</td>\n",
       "      <td>0.209778</td>\n",
       "      <td>0.382320</td>\n",
       "      <td>1</td>\n",
       "      <td>0.0</td>\n",
       "      <td>6.923256</td>\n",
       "    </tr>\n",
       "    <tr>\n",
       "      <th>27</th>\n",
       "      <td>joao_pe_____</td>\n",
       "      <td>0.411734</td>\n",
       "      <td>0.105875</td>\n",
       "      <td>0.482391</td>\n",
       "      <td>0</td>\n",
       "      <td>2.0</td>\n",
       "      <td>7.211970</td>\n",
       "    </tr>\n",
       "    <tr>\n",
       "      <th>28</th>\n",
       "      <td>maria_c_b___</td>\n",
       "      <td>0.411734</td>\n",
       "      <td>0.105875</td>\n",
       "      <td>0.482391</td>\n",
       "      <td>1</td>\n",
       "      <td>2.0</td>\n",
       "      <td>7.211970</td>\n",
       "    </tr>\n",
       "    <tr>\n",
       "      <th>21</th>\n",
       "      <td>barbara_____</td>\n",
       "      <td>0.411734</td>\n",
       "      <td>0.105875</td>\n",
       "      <td>0.482391</td>\n",
       "      <td>1</td>\n",
       "      <td>2.0</td>\n",
       "      <td>7.211970</td>\n",
       "    </tr>\n",
       "    <tr>\n",
       "      <th>26</th>\n",
       "      <td>manuela_n_p_</td>\n",
       "      <td>0.411734</td>\n",
       "      <td>0.105875</td>\n",
       "      <td>0.482391</td>\n",
       "      <td>1</td>\n",
       "      <td>2.0</td>\n",
       "      <td>7.211970</td>\n",
       "    </tr>\n",
       "    <tr>\n",
       "      <th>19</th>\n",
       "      <td>miguel______</td>\n",
       "      <td>0.411734</td>\n",
       "      <td>0.105875</td>\n",
       "      <td>0.482391</td>\n",
       "      <td>0</td>\n",
       "      <td>2.0</td>\n",
       "      <td>7.211970</td>\n",
       "    </tr>\n",
       "    <tr>\n",
       "      <th>0</th>\n",
       "      <td>caterin_____</td>\n",
       "      <td>0.411734</td>\n",
       "      <td>0.105875</td>\n",
       "      <td>0.482391</td>\n",
       "      <td>1</td>\n",
       "      <td>2.0</td>\n",
       "      <td>7.211970</td>\n",
       "    </tr>\n",
       "    <tr>\n",
       "      <th>15</th>\n",
       "      <td>maria_c_d___</td>\n",
       "      <td>0.411734</td>\n",
       "      <td>0.105875</td>\n",
       "      <td>0.482391</td>\n",
       "      <td>1</td>\n",
       "      <td>2.0</td>\n",
       "      <td>7.211970</td>\n",
       "    </tr>\n",
       "    <tr>\n",
       "      <th>10</th>\n",
       "      <td>sofia_______</td>\n",
       "      <td>0.411734</td>\n",
       "      <td>0.105875</td>\n",
       "      <td>0.482391</td>\n",
       "      <td>1</td>\n",
       "      <td>2.0</td>\n",
       "      <td>7.211970</td>\n",
       "    </tr>\n",
       "    <tr>\n",
       "      <th>7</th>\n",
       "      <td>joana_b_t___</td>\n",
       "      <td>0.411734</td>\n",
       "      <td>0.105875</td>\n",
       "      <td>0.482391</td>\n",
       "      <td>1</td>\n",
       "      <td>2.0</td>\n",
       "      <td>7.211970</td>\n",
       "    </tr>\n",
       "    <tr>\n",
       "      <th>5</th>\n",
       "      <td>ana_l_f_____</td>\n",
       "      <td>0.411734</td>\n",
       "      <td>0.105875</td>\n",
       "      <td>0.482391</td>\n",
       "      <td>1</td>\n",
       "      <td>2.0</td>\n",
       "      <td>7.211970</td>\n",
       "    </tr>\n",
       "    <tr>\n",
       "      <th>18</th>\n",
       "      <td>kim_k_v_____</td>\n",
       "      <td>0.411734</td>\n",
       "      <td>0.105875</td>\n",
       "      <td>0.482391</td>\n",
       "      <td>0</td>\n",
       "      <td>2.0</td>\n",
       "      <td>7.211970</td>\n",
       "    </tr>\n",
       "    <tr>\n",
       "      <th>11</th>\n",
       "      <td>vitoria_mo__</td>\n",
       "      <td>0.225213</td>\n",
       "      <td>0.405383</td>\n",
       "      <td>0.369405</td>\n",
       "      <td>1</td>\n",
       "      <td>1.0</td>\n",
       "      <td>7.432577</td>\n",
       "    </tr>\n",
       "    <tr>\n",
       "      <th>3</th>\n",
       "      <td>sophia______</td>\n",
       "      <td>0.232544</td>\n",
       "      <td>0.358782</td>\n",
       "      <td>0.408675</td>\n",
       "      <td>1</td>\n",
       "      <td>2.0</td>\n",
       "      <td>7.528393</td>\n",
       "    </tr>\n",
       "    <tr>\n",
       "      <th>33</th>\n",
       "      <td>maria_c_a___</td>\n",
       "      <td>0.232544</td>\n",
       "      <td>0.358782</td>\n",
       "      <td>0.408675</td>\n",
       "      <td>1</td>\n",
       "      <td>2.0</td>\n",
       "      <td>7.528393</td>\n",
       "    </tr>\n",
       "    <tr>\n",
       "      <th>25</th>\n",
       "      <td>martim______</td>\n",
       "      <td>0.190101</td>\n",
       "      <td>0.342181</td>\n",
       "      <td>0.467719</td>\n",
       "      <td>0</td>\n",
       "      <td>2.0</td>\n",
       "      <td>7.832854</td>\n",
       "    </tr>\n",
       "    <tr>\n",
       "      <th>4</th>\n",
       "      <td>joao_ga_____</td>\n",
       "      <td>0.193088</td>\n",
       "      <td>0.297908</td>\n",
       "      <td>0.509004</td>\n",
       "      <td>0</td>\n",
       "      <td>2.0</td>\n",
       "      <td>7.947745</td>\n",
       "    </tr>\n",
       "    <tr>\n",
       "      <th>17</th>\n",
       "      <td>rhyana_n_p__</td>\n",
       "      <td>0.196831</td>\n",
       "      <td>0.157465</td>\n",
       "      <td>0.645704</td>\n",
       "      <td>1</td>\n",
       "      <td>2.0</td>\n",
       "      <td>8.346619</td>\n",
       "    </tr>\n",
       "    <tr>\n",
       "      <th>13</th>\n",
       "      <td>gabriel_____</td>\n",
       "      <td>0.196831</td>\n",
       "      <td>0.157465</td>\n",
       "      <td>0.645704</td>\n",
       "      <td>0</td>\n",
       "      <td>2.0</td>\n",
       "      <td>8.346619</td>\n",
       "    </tr>\n",
       "    <tr>\n",
       "      <th>30</th>\n",
       "      <td>matheus_re__</td>\n",
       "      <td>0.196831</td>\n",
       "      <td>0.157465</td>\n",
       "      <td>0.645704</td>\n",
       "      <td>0</td>\n",
       "      <td>2.0</td>\n",
       "      <td>8.346619</td>\n",
       "    </tr>\n",
       "    <tr>\n",
       "      <th>12</th>\n",
       "      <td>isadora_s_b_</td>\n",
       "      <td>0.148793</td>\n",
       "      <td>0.119034</td>\n",
       "      <td>0.732173</td>\n",
       "      <td>1</td>\n",
       "      <td>2.0</td>\n",
       "      <td>8.750139</td>\n",
       "    </tr>\n",
       "  </tbody>\n",
       "</table>\n",
       "</div>"
      ],
      "text/plain": [
       "               n       bsc       itm       trs  g  nbs       cpx\n",
       "6   guilher_do__  0.899158  0.048169  0.052673  0  0.0  4.460545\n",
       "22  pedro_ro____  0.797707  0.085469  0.116825  0  0.0  4.957355\n",
       "8   davi_d_c____  0.797707  0.085469  0.116825  0  0.0  4.957355\n",
       "31  julia_s_p___  0.753682  0.080752  0.165566  1  0.0  5.235652\n",
       "29  gabriel_s_k_  0.619452  0.199110  0.181439  0  0.0  5.685960\n",
       "14  yuri_a_d____  0.536903  0.345152  0.117945  0  0.0  5.743125\n",
       "20  pedro_______  0.536903  0.345152  0.117945  0  0.0  5.743125\n",
       "32  davi________  0.511501  0.383626  0.104874  0  0.0  5.780119\n",
       "16  catarin_ma__  0.626090  0.080497  0.293413  1  0.0  6.001968\n",
       "2   linda_s_k___  0.626090  0.080497  0.293413  1  0.0  6.001968\n",
       "23  miguel_m_f__  0.626090  0.080497  0.293413  0  0.0  6.001968\n",
       "24  arthur_h_m__  0.626090  0.080497  0.293413  0  0.0  6.001968\n",
       "9   maria_c_v___  0.545990  0.070199  0.383811  1  0.0  6.513465\n",
       "1   julia_d_e___  0.407902  0.209778  0.382320  1  0.0  6.923256\n",
       "27  joao_pe_____  0.411734  0.105875  0.482391  0  2.0  7.211970\n",
       "28  maria_c_b___  0.411734  0.105875  0.482391  1  2.0  7.211970\n",
       "21  barbara_____  0.411734  0.105875  0.482391  1  2.0  7.211970\n",
       "26  manuela_n_p_  0.411734  0.105875  0.482391  1  2.0  7.211970\n",
       "19  miguel______  0.411734  0.105875  0.482391  0  2.0  7.211970\n",
       "0   caterin_____  0.411734  0.105875  0.482391  1  2.0  7.211970\n",
       "15  maria_c_d___  0.411734  0.105875  0.482391  1  2.0  7.211970\n",
       "10  sofia_______  0.411734  0.105875  0.482391  1  2.0  7.211970\n",
       "7   joana_b_t___  0.411734  0.105875  0.482391  1  2.0  7.211970\n",
       "5   ana_l_f_____  0.411734  0.105875  0.482391  1  2.0  7.211970\n",
       "18  kim_k_v_____  0.411734  0.105875  0.482391  0  2.0  7.211970\n",
       "11  vitoria_mo__  0.225213  0.405383  0.369405  1  1.0  7.432577\n",
       "3   sophia______  0.232544  0.358782  0.408675  1  2.0  7.528393\n",
       "33  maria_c_a___  0.232544  0.358782  0.408675  1  2.0  7.528393\n",
       "25  martim______  0.190101  0.342181  0.467719  0  2.0  7.832854\n",
       "4   joao_ga_____  0.193088  0.297908  0.509004  0  2.0  7.947745\n",
       "17  rhyana_n_p__  0.196831  0.157465  0.645704  1  2.0  8.346619\n",
       "13  gabriel_____  0.196831  0.157465  0.645704  0  2.0  8.346619\n",
       "30  matheus_re__  0.196831  0.157465  0.645704  0  2.0  8.346619\n",
       "12  isadora_s_b_  0.148793  0.119034  0.732173  1  2.0  8.750139"
      ]
     },
     "execution_count": 5,
     "metadata": {},
     "output_type": "execute_result"
    }
   ],
   "source": [
    "df[\"cpx\"] = [ row.bsc * 4 + row.itm * 7 + row.trs * 10 for index, row in df.iterrows() ]\n",
    "df.sort_values(by=['cpx'])"
   ]
  },
  {
   "cell_type": "code",
   "execution_count": 34,
   "metadata": {},
   "outputs": [
    {
     "data": {
      "text/plain": [
       "<matplotlib.axes._subplots.AxesSubplot at 0x7f73c3b21c88>"
      ]
     },
     "execution_count": 34,
     "metadata": {},
     "output_type": "execute_result"
    },
    {
     "data": {
      "image/png": "[encoded data removed]",
      "text/plain": [
       "<matplotlib.figure.Figure at 0x7f73c404db00>"
      ]
     },
     "metadata": {},
     "output_type": "display_data"
    }
   ],
   "source": [
    "import seaborn as sns\n",
    "#df.cpx.groupby(\"g\")\n",
    "#sns.distplot(df.cpx)\n",
    "\n",
    "sns.violinplot(x=df[\"g\"], y=df.cpx)"
   ]
  },
  {
   "cell_type": "code",
   "execution_count": 35,
   "metadata": {},
   "outputs": [
    {
     "data": {
      "text/plain": [
       "<matplotlib.axes._subplots.AxesSubplot at 0x7f73c3948978>"
      ]
     },
     "execution_count": 35,
     "metadata": {},
     "output_type": "execute_result"
    },
    {
     "data": {
      "image/png": "[encoded data removed]",
      "text/plain": [
       "<matplotlib.figure.Figure at 0x7f73c398c940>"
      ]
     },
     "metadata": {},
     "output_type": "display_data"
    }
   ],
   "source": [
    "sns.distplot(df.cpx)"
   ]
  },
  {
   "cell_type": "code",
   "execution_count": 53,
   "metadata": {},
   "outputs": [
    {
     "data": {
      "text/plain": [
       "<matplotlib.axes._subplots.AxesSubplot at 0x7f73c367f278>"
      ]
     },
     "execution_count": 53,
     "metadata": {},
     "output_type": "execute_result"
    },
    {
     "data": {
      "image/png": "[encoded data removed]",
      "text/plain": [
       "<matplotlib.figure.Figure at 0x7f73c3898898>"
      ]
     },
     "metadata": {},
     "output_type": "display_data"
    }
   ],
   "source": [
    "sns.violinplot(hue=\"g\", x= df.bsc, split=True, data=df)"
   ]
  },
  {
   "cell_type": "code",
   "execution_count": 55,
   "metadata": {},
   "outputs": [
    {
     "data": {
      "text/plain": [
       "<seaborn.axisgrid.JointGrid at 0x7f73c35cd908>"
      ]
     },
     "execution_count": 55,
     "metadata": {},
     "output_type": "execute_result"
    },
    {
     "data": {
      "image/png": "[encoded data removed]",
      "text/plain": [
       "<matplotlib.figure.Figure at 0x7f73c35cdb70>"
      ]
     },
     "metadata": {},
     "output_type": "display_data"
    }
   ],
   "source": [
    "sns.jointplot(x=df.bsc, y=df.trs, data=df)"
   ]
  },
  {
   "cell_type": "code",
   "execution_count": 59,
   "metadata": {},
   "outputs": [
    {
     "data": {
      "text/plain": [
       "<matplotlib.axes._subplots.AxesSubplot at 0x7f73c3856a20>"
      ]
     },
     "execution_count": 59,
     "metadata": {},
     "output_type": "execute_result"
    },
    {
     "data": {
      "image/png": "[encoded data removed]",
      "text/plain": [
       "<matplotlib.figure.Figure at 0x7f73c38c9d30>"
      ]
     },
     "metadata": {},
     "output_type": "display_data"
    }
   ],
   "source": [
    "sns.swarmplot(y=df.cpx, data=df, \n",
    "              hue='g')"
   ]
  },
  {
   "cell_type": "code",
   "execution_count": 61,
   "metadata": {},
   "outputs": [
    {
     "data": {
      "text/html": [
       "<div>\n",
       "<style scoped>\n",
       "    .dataframe tbody tr th:only-of-type {\n",
       "        vertical-align: middle;\n",
       "    }\n",
       "\n",
       "    .dataframe tbody tr th {\n",
       "        vertical-align: top;\n",
       "    }\n",
       "\n",
       "    .dataframe thead th {\n",
       "        text-align: right;\n",
       "    }\n",
       "</style>\n",
       "<table border=\"1\" class=\"dataframe\">\n",
       "  <thead>\n",
       "    <tr style=\"text-align: right;\">\n",
       "      <th></th>\n",
       "      <th>n</th>\n",
       "      <th>bsc</th>\n",
       "      <th>itm</th>\n",
       "      <th>trs</th>\n",
       "      <th>Stat</th>\n",
       "      <th>value</th>\n",
       "    </tr>\n",
       "  </thead>\n",
       "  <tbody>\n",
       "    <tr>\n",
       "      <th>0</th>\n",
       "      <td>caterin_____</td>\n",
       "      <td>0.411734</td>\n",
       "      <td>0.105875</td>\n",
       "      <td>0.482391</td>\n",
       "      <td>g</td>\n",
       "      <td>1.0</td>\n",
       "    </tr>\n",
       "    <tr>\n",
       "      <th>1</th>\n",
       "      <td>julia_d_e___</td>\n",
       "      <td>0.407902</td>\n",
       "      <td>0.209778</td>\n",
       "      <td>0.382320</td>\n",
       "      <td>g</td>\n",
       "      <td>1.0</td>\n",
       "    </tr>\n",
       "    <tr>\n",
       "      <th>2</th>\n",
       "      <td>linda_s_k___</td>\n",
       "      <td>0.626090</td>\n",
       "      <td>0.080497</td>\n",
       "      <td>0.293413</td>\n",
       "      <td>g</td>\n",
       "      <td>1.0</td>\n",
       "    </tr>\n",
       "    <tr>\n",
       "      <th>3</th>\n",
       "      <td>sophia______</td>\n",
       "      <td>0.232544</td>\n",
       "      <td>0.358782</td>\n",
       "      <td>0.408675</td>\n",
       "      <td>g</td>\n",
       "      <td>1.0</td>\n",
       "    </tr>\n",
       "    <tr>\n",
       "      <th>4</th>\n",
       "      <td>joao_ga_____</td>\n",
       "      <td>0.193088</td>\n",
       "      <td>0.297908</td>\n",
       "      <td>0.509004</td>\n",
       "      <td>g</td>\n",
       "      <td>0.0</td>\n",
       "    </tr>\n",
       "  </tbody>\n",
       "</table>\n",
       "</div>"
      ],
      "text/plain": [
       "              n       bsc       itm       trs Stat  value\n",
       "0  caterin_____  0.411734  0.105875  0.482391    g    1.0\n",
       "1  julia_d_e___  0.407902  0.209778  0.382320    g    1.0\n",
       "2  linda_s_k___  0.626090  0.080497  0.293413    g    1.0\n",
       "3  sophia______  0.232544  0.358782  0.408675    g    1.0\n",
       "4  joao_ga_____  0.193088  0.297908  0.509004    g    0.0"
      ]
     },
     "execution_count": 61,
     "metadata": {},
     "output_type": "execute_result"
    }
   ],
   "source": [
    "melted_df = pd.melt(df, \n",
    "                    id_vars=[\"n\", \"bsc\", \"itm\", \"trs\"], # Variables to keep\n",
    "                    var_name=\"Stat\") # Name of melted variable\n",
    "melted_df.head()"
   ]
  },
  {
   "cell_type": "code",
   "execution_count": 66,
   "metadata": {},
   "outputs": [
    {
     "data": {
      "image/png": "[encoded data removed]",
      "text/plain": [
       "<matplotlib.figure.Figure at 0x7f73c33d22b0>"
      ]
     },
     "metadata": {},
     "output_type": "display_data"
    }
   ],
   "source": [
    "ax = sns.violinplot(y=\"cpx\", x=\"nbs\", hue=\"g\",\n",
    "...                     data=df, palette=\"muted\", split=True)\n"
   ]
  },
  {
   "cell_type": "code",
   "execution_count": null,
   "metadata": {},
   "outputs": [],
   "source": []
  }
 ],
 "metadata": {
  "kernelspec": {
   "display_name": "Python 3",
   "language": "python",
   "name": "python3"
  },
  "language_info": {
   "codemirror_mode": {
    "name": "ipython",
    "version": 3
   },
   "file_extension": ".py",
   "mimetype": "text/x-python",
   "name": "python",
   "nbconvert_exporter": "python",
   "pygments_lexer": "ipython3",
   "version": "3.6.8"
  },
  "toc": {
   "base_numbering": 1,
   "nav_menu": {},
   "number_sections": true,
   "sideBar": true,
   "skip_h1_title": false,
   "title_cell": "Table of Contents",
   "title_sidebar": "Contents",
   "toc_cell": false,
   "toc_position": {},
   "toc_section_display": true,
   "toc_window_display": false
  }
 },
 "nbformat": 4,
 "nbformat_minor": 2
}
