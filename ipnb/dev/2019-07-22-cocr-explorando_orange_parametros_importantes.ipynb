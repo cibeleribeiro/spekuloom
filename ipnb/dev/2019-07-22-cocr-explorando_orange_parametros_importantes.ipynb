{
 "cells": [
  {
   "cell_type": "code",
   "execution_count": 1,
   "metadata": {},
   "outputs": [
    {
     "data": {
      "text/plain": [
       "'3.20.1'"
      ]
     },
     "execution_count": 1,
     "metadata": {},
     "output_type": "execute_result"
    }
   ],
   "source": [
    "import Orange, pickle\n",
    "Orange.version.version\n"
   ]
  },
  {
   "cell_type": "code",
   "execution_count": 2,
   "metadata": {},
   "outputs": [
    {
     "data": {
      "text/plain": [
       "(array([0, 0, 1, 1, 0, 0, 0, 1, 0, 0, 0, 0, 0, 0, 0, 0, 0, 0, 0, 0, 0, 0,\n",
       "        0, 0, 1, 1, 1, 0, 0, 0, 0, 0, 1, 0]),\n",
       " array([[0.70977623, 0.23421043, 0.05601334],\n",
       "        [0.82603398, 0.06308116, 0.11088485],\n",
       "        [0.15279979, 0.81681283, 0.03038738],\n",
       "        [0.32324416, 0.66353176, 0.01322409],\n",
       "        [0.75155924, 0.14879874, 0.09964201],\n",
       "        [0.66858178, 0.22061718, 0.11080104],\n",
       "        [0.83086419, 0.11750005, 0.05163576],\n",
       "        [0.15051294, 0.80458817, 0.04489889],\n",
       "        [0.54740949, 0.22579126, 0.22679925],\n",
       "        [0.54740949, 0.22579126, 0.22679925],\n",
       "        [0.75155924, 0.14879874, 0.09964201],\n",
       "        [0.89519521, 0.0708947 , 0.03391009],\n",
       "        [0.4923816 , 0.35094605, 0.15667234],\n",
       "        [0.75155924, 0.14879874, 0.09964201],\n",
       "        [0.54964782, 0.12242583, 0.32792634],\n",
       "        [0.75155924, 0.14879874, 0.09964201],\n",
       "        [0.54740949, 0.22579126, 0.22679925],\n",
       "        [0.75155924, 0.14879874, 0.09964201],\n",
       "        [0.54740949, 0.22579126, 0.22679925],\n",
       "        [0.75155924, 0.14879874, 0.09964201],\n",
       "        [0.82589831, 0.09197825, 0.08212344],\n",
       "        [0.95519958, 0.03112323, 0.0136772 ],\n",
       "        [0.8399892 , 0.07982722, 0.08018359],\n",
       "        [0.89519521, 0.0708947 , 0.03391009],\n",
       "        [0.31022309, 0.66333652, 0.02644039],\n",
       "        [0.15051294, 0.80458817, 0.04489889],\n",
       "        [0.23637015, 0.71074689, 0.05288295],\n",
       "        [0.92847666, 0.05042086, 0.02110248],\n",
       "        [0.54740949, 0.22579126, 0.22679925],\n",
       "        [0.75155924, 0.14879874, 0.09964201],\n",
       "        [0.8399892 , 0.07982722, 0.08018359],\n",
       "        [0.88986822, 0.09664846, 0.01348332],\n",
       "        [0.15051294, 0.80458817, 0.04489889],\n",
       "        [0.89519521, 0.0708947 , 0.03391009]]))"
      ]
     },
     "execution_count": 2,
     "metadata": {},
     "output_type": "execute_result"
    }
   ],
   "source": [
    "SPEKULOOM_PATH = \"../../src/\"\n",
    "\n",
    "data = Orange.data.Table(SPEKULOOM_PATH+\"spekuloom/samples\")\n",
    "naivebayes = pickle.load(open(SPEKULOOM_PATH+\"spekuloom/spek_stol24.pkcls\", 'rb'))\n",
    "classifier = naivebayes.predict_storage(data)\n",
    "data[0:3]\n",
    "type(naivebayes)  # (data[0:3], True)\n",
    "classifier\n"
   ]
  },
  {
   "cell_type": "code",
   "execution_count": 28,
   "metadata": {},
   "outputs": [
    {
     "data": {
      "text/plain": [
       "[▲◡▲◡, ●▻▲◡, ▲●▴▲, ▲▲◡▲, ▲◡▲▲, ▴▲◡▲, ◡▲▲▲, ▲▲▲◭, ▬▲◡▲, ▲▲▲◡, ▲▲▲▲, ▻●◡▻, ▲◡▲◭, ▴▲○●, ▴▲▲◡, ▴▲◡▴, ◡▻●◡, ○●◡▲, ○●▴▲, ●○▴▲, ●◭◡▲, ▴▲◡▻, ▴▲●◡, ▴▲○◭, ▴▲◭◡, ●●▻▲, ◡▲◡▲, ▴▲●▬, ▴▻▲●, ▴▲●●, ●▻▻●, ▴▲▻▲, ▲▬○●, ○●▻▲, ▲▬▻●, ▲▲▴▲, ●◡▴▲, ▻▲◡▲, ▴▲◡●, ▲◡▻▲ | class] {n, g}"
      ]
     },
     "execution_count": 28,
     "metadata": {},
     "output_type": "execute_result"
    }
   ],
   "source": [
    "learn_data = Orange.data.Table(SPEKULOOM_PATH+\"spekuloom/learn24\")\n",
    "gain = Orange.preprocess.score.InfoGain()\n",
    "anova = Orange.preprocess.score.ANOVA()\n",
    "selector = Orange.preprocess.SelectBestFeatures(method=anova, k=40)\n",
    "data2 = selector(learn_data)\n",
    "data2.domain\n",
    "# learn_data.domain\n",
    "# best = [f for _, f in sorted((gain(x, learn_data), x) for x in learn_data.domain.)[-5:]]\n",
    "# print(\"Features:\", len(data.domain.features))\n",
    "# print(\"Best ones:\", \", \".join([x.name for x in best]))\n"
   ]
  },
  {
   "cell_type": "code",
   "execution_count": 29,
   "metadata": {},
   "outputs": [
    {
     "data": {
      "text/plain": [
       "(array([0, 0, 0, 0, 0, 0, 0, 0, 0, 0, 0, 0, 0, 0, 0, 0, 0, 0, 0, 0, 0, 0,\n",
       "        0, 0, 0, 0, 0, 0, 0, 0, 0, 0, 0, 0]),\n",
       " array([[0.53338141, 0.05846019, 0.40815841],\n",
       "        [0.86680236, 0.07214375, 0.06105389],\n",
       "        [0.92262997, 0.01685383, 0.0605162 ],\n",
       "        [0.88518626, 0.03880762, 0.07600612],\n",
       "        [0.94935563, 0.01950979, 0.03113458],\n",
       "        [0.73031642, 0.09005046, 0.17963312],\n",
       "        [0.64878652, 0.0533317 , 0.29788178],\n",
       "        [0.96075312, 0.01404019, 0.02520669],\n",
       "        [0.78523184, 0.06454781, 0.15022035],\n",
       "        [0.78523184, 0.06454781, 0.15022035],\n",
       "        [0.94935563, 0.01950979, 0.03113458],\n",
       "        [0.83538168, 0.09156032, 0.073058  ],\n",
       "        [0.97622202, 0.01504643, 0.00873155],\n",
       "        [0.94935563, 0.01950979, 0.03113458],\n",
       "        [0.94198536, 0.03484498, 0.02316965],\n",
       "        [0.94935563, 0.01950979, 0.03113458],\n",
       "        [0.78523184, 0.06454781, 0.15022035],\n",
       "        [0.94935563, 0.01950979, 0.03113458],\n",
       "        [0.78523184, 0.06454781, 0.15022035],\n",
       "        [0.94935563, 0.01950979, 0.03113458],\n",
       "        [0.98483657, 0.00910752, 0.00605591],\n",
       "        [0.90038406, 0.04163264, 0.0579833 ],\n",
       "        [0.93190442, 0.0430901 , 0.02500549],\n",
       "        [0.83538168, 0.09156032, 0.073058  ],\n",
       "        [0.87115329, 0.06789759, 0.06094911],\n",
       "        [0.96075312, 0.01404019, 0.02520669],\n",
       "        [0.98863514, 0.00650144, 0.00486342],\n",
       "        [0.75786622, 0.08306439, 0.15906939],\n",
       "        [0.78523184, 0.06454781, 0.15022035],\n",
       "        [0.94935563, 0.01950979, 0.03113458],\n",
       "        [0.93190442, 0.0430901 , 0.02500549],\n",
       "        [0.74502468, 0.02041423, 0.23456109],\n",
       "        [0.96075312, 0.01404019, 0.02520669],\n",
       "        [0.83538168, 0.09156032, 0.073058  ]]))"
      ]
     },
     "execution_count": 29,
     "metadata": {},
     "output_type": "execute_result"
    }
   ],
   "source": [
    "learner = Orange.classification.NaiveBayesLearner()\n",
    "classifier = learner(data2)\n",
    "classified_level0 = classifier(data2)\n",
    "classified_level0\n",
    "classifier.predict_storage(data)"
   ]
  },
  {
   "cell_type": "code",
   "execution_count": 22,
   "metadata": {},
   "outputs": [
    {
     "data": {
      "text/plain": [
       "[▲◡▲◡, ●▻▲◡, ▲●▴▲, ▲▲◡▲, ▴▲●◡, ▲▲▲◡, ▲◡▲▲, ▬▲◡▲, ◡▲▲▲, ▻●◡▻, ▴▲▲◡, ▴▲◡▴, ●○▴▲, ▴▲◭◡, ◡▲◡▲, ●◭◡▲, ▴▲◡▻, ○●◡▲, ▲▲▲▲, ▴▲◡▲, ▴▲●●, ▲◡▲◭, ▴▲○●, ▴▻▲●, ●●▻▲ | class] {n, g}"
      ]
     },
     "execution_count": 22,
     "metadata": {},
     "output_type": "execute_result"
    }
   ],
   "source": [
    "fl = filtered_level0 = data2.copy()\n",
    "[part.set_class(clazz) for part, clazz in zip(filtered_level0, classified_level0) ]\n",
    "filtered_level0\n",
    "selector = Orange.preprocess.SelectBestFeatures(method=anova, k=25)\n",
    "data3 = selector(filtered_level0)\n",
    "data3.domain\n"
   ]
  },
  {
   "cell_type": "code",
   "execution_count": 23,
   "metadata": {},
   "outputs": [
    {
     "data": {
      "text/plain": [
       "array([0, 0, 0, 0, 0, 0, 0, 0, 0, 0, 0, 1, 1, 0, 1, 1, 0, 1, 1, 1, 1, 1,\n",
       "       1, 2, 0, 2, 2, 2, 2, 2, 2, 2, 2])"
      ]
     },
     "execution_count": 23,
     "metadata": {},
     "output_type": "execute_result"
    }
   ],
   "source": [
    "classifier = learner(data3)\n",
    "classified_level1 = classifier(data3)\n",
    "classified_level1"
   ]
  },
  {
   "cell_type": "code",
   "execution_count": 24,
   "metadata": {},
   "outputs": [
    {
     "data": {
      "text/plain": [
       "[0,\n",
       " 0,\n",
       " 0,\n",
       " 0,\n",
       " 0,\n",
       " 0,\n",
       " 0,\n",
       " 0,\n",
       " 0,\n",
       " 0,\n",
       " 0,\n",
       " 1,\n",
       " 1,\n",
       " 0,\n",
       " 1,\n",
       " 1,\n",
       " 0,\n",
       " 1,\n",
       " 1,\n",
       " 1,\n",
       " 1,\n",
       " 1,\n",
       " 1,\n",
       " 2,\n",
       " 0,\n",
       " 2,\n",
       " 2,\n",
       " 2,\n",
       " 2,\n",
       " 2,\n",
       " 2,\n",
       " 2,\n",
       " 2]"
      ]
     },
     "execution_count": 24,
     "metadata": {},
     "output_type": "execute_result"
    }
   ],
   "source": [
    "classes = [list('bit').index(str(c.get_class())[0]) for c in data3]\n",
    "classes"
   ]
  },
  {
   "cell_type": "code",
   "execution_count": 19,
   "metadata": {},
   "outputs": [
    {
     "data": {
      "text/plain": [
       "[[0, 0, 0, 0, 0, ... | intermediario] {os-ruth-roch, a},\n",
       " [1, 1, 0, 0, 0, ... | basico] {azevedo-filh, o},\n",
       " [0, 0, 0, 0, 0, ... | basico] {azevedo-filh, o},\n",
       " [0, 0, 0, 0, 0, ... | basico] {ristina-Alve, s},\n",
       " [0, 0, 0, 0, 0, ... | basico] {-brasil-brun, o},\n",
       " ...\n",
       "]"
      ]
     },
     "execution_count": 19,
     "metadata": {},
     "output_type": "execute_result"
    }
   ],
   "source": [
    "fl = filtered_level0 = data2.copy()\n",
    "fl[0].set_class(1)\n",
    "# [part.set_class(clazz) for part, clazz in zip(filtered_level0, classified_level0) ]\n",
    "filtered_level0\n",
    "\n"
   ]
  },
  {
   "cell_type": "code",
   "execution_count": 26,
   "metadata": {},
   "outputs": [
    {
     "data": {
      "text/plain": [
       "(array([0, 0, 0, 0, 0, 0, 0, 0, 0, 0, 0, 0, 0, 0, 0, 0, 0, 0, 0, 0, 0, 0,\n",
       "        0, 0, 0, 0, 0, 0, 0, 0, 0, 0, 0, 0]),\n",
       " array([[0.76458796, 0.1329778 , 0.10243423],\n",
       "        [0.68455267, 0.06395677, 0.25149056],\n",
       "        [0.97874557, 0.00720526, 0.01404917],\n",
       "        [0.87709814, 0.11017187, 0.01272999],\n",
       "        [0.97874557, 0.00720526, 0.01404917],\n",
       "        [0.80742396, 0.05349633, 0.13907971],\n",
       "        [0.73091659, 0.03301861, 0.2360648 ],\n",
       "        [0.97874557, 0.00720526, 0.01404917],\n",
       "        [0.89345276, 0.02959811, 0.07694913],\n",
       "        [0.89345276, 0.02959811, 0.07694913],\n",
       "        [0.97874557, 0.00720526, 0.01404917],\n",
       "        [0.96598582, 0.01244482, 0.02156936],\n",
       "        [0.98491924, 0.0058912 , 0.00918956],\n",
       "        [0.97874557, 0.00720526, 0.01404917],\n",
       "        [0.94374399, 0.00884239, 0.04741362],\n",
       "        [0.97874557, 0.00720526, 0.01404917],\n",
       "        [0.89345276, 0.02959811, 0.07694913],\n",
       "        [0.97874557, 0.00720526, 0.01404917],\n",
       "        [0.89345276, 0.02959811, 0.07694913],\n",
       "        [0.97874557, 0.00720526, 0.01404917],\n",
       "        [0.97105791, 0.00454915, 0.02439294],\n",
       "        [0.9366678 , 0.03055958, 0.03277262],\n",
       "        [0.96781447, 0.02315556, 0.00902997],\n",
       "        [0.96598582, 0.01244482, 0.02156936],\n",
       "        [0.96598582, 0.01244482, 0.02156936],\n",
       "        [0.97874557, 0.00720526, 0.01404917],\n",
       "        [0.97105791, 0.00454915, 0.02439294],\n",
       "        [0.908017  , 0.01595183, 0.07603117],\n",
       "        [0.89345276, 0.02959811, 0.07694913],\n",
       "        [0.97874557, 0.00720526, 0.01404917],\n",
       "        [0.96781447, 0.02315556, 0.00902997],\n",
       "        [0.87994358, 0.04637593, 0.07368049],\n",
       "        [0.97874557, 0.00720526, 0.01404917],\n",
       "        [0.96598582, 0.01244482, 0.02156936]]))"
      ]
     },
     "execution_count": 26,
     "metadata": {},
     "output_type": "execute_result"
    }
   ],
   "source": [
    "classifier.predict_storage(data)"
   ]
  },
  {
   "cell_type": "code",
   "execution_count": null,
   "metadata": {},
   "outputs": [],
   "source": []
  }
 ],
 "metadata": {
  "kernelspec": {
   "display_name": "Python 3",
   "language": "python",
   "name": "python3"
  },
  "language_info": {
   "codemirror_mode": {
    "name": "ipython",
    "version": 3
   },
   "file_extension": ".py",
   "mimetype": "text/x-python",
   "name": "python",
   "nbconvert_exporter": "python",
   "pygments_lexer": "ipython3",
   "version": "3.6.8"
  },
  "toc": {
   "base_numbering": 1,
   "nav_menu": {},
   "number_sections": true,
   "sideBar": true,
   "skip_h1_title": false,
   "title_cell": "Table of Contents",
   "title_sidebar": "Contents",
   "toc_cell": false,
   "toc_position": {},
   "toc_section_display": true,
   "toc_window_display": false
  }
 },
 "nbformat": 4,
 "nbformat_minor": 2
}
